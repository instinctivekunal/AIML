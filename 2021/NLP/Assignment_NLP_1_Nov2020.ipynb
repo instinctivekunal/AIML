{
 "cells": [
  {
   "cell_type": "markdown",
   "metadata": {
    "id": "WXaFSkUu0fzm"
   },
   "source": [
    "![alt text](https://drive.google.com/uc?export=view&id=1UXScsVx_Wni_JuDdB8LeTnM6jsPfIwkW)\n",
    "\n",
    "Proprietary content. © Great Learning. All Rights Reserved. Unauthorized use or distribution prohibited."
   ]
  },
  {
   "cell_type": "markdown",
   "metadata": {
    "id": "OudB5by50jlI"
   },
   "source": [
    "# Sentiment Classification"
   ]
  },
  {
   "cell_type": "markdown",
   "metadata": {
    "id": "xT7MKZuMRaCg"
   },
   "source": [
    "### Dataset\n",
    "- Dataset of 50,000 movie reviews from IMDB, labeled by sentiment positive (1) or negative (0)\n",
    "- Reviews have been preprocessed, and each review is encoded as a sequence of word indexes (integers).\n",
    "- For convenience, words are indexed by overall frequency in the dataset, so that for instance the integer \"3\" encodes the 3rd most frequent word in the data. This allows for quick filtering operations such as: \"only consider the top 10,000 most common words, but eliminate the top 20 most common words\".\n",
    "- As a convention, \"0\" does not stand for a specific word, but instead is used to encode any unknown word.\n",
    "\n",
    "Command to import data\n",
    "- `from tensorflow.keras.datasets import imdb`"
   ]
  },
  {
   "cell_type": "markdown",
   "metadata": {
    "id": "Q34-Y3nRKXdO"
   },
   "source": [
    "### Import the data (4 Marks)\n",
    "- Use `imdb.load_data()` method\n",
    "- Get train and test set\n",
    "- Take 10000 most frequent words"
   ]
  },
  {
   "cell_type": "code",
   "execution_count": 1,
   "metadata": {
    "id": "JxfwbrbuKbk2"
   },
   "outputs": [],
   "source": [
    "from tensorflow.keras.datasets import imdb\n",
    "from sklearn.model_selection import train_test_split\n",
    "import numpy as np\n",
    "\n",
    "WORDS = 10000\n",
    "INDEX_FROM=3\n",
    "(Xtrain, ytrain), (Xtest, ytest) = imdb.load_data(num_words = WORDS, index_from=INDEX_FROM)\n",
    "\n",
    "data = np.concatenate((Xtrain, Xtest), axis=0)\n",
    "targets = np.concatenate((ytrain, ytest), axis=0)\n",
    "\n",
    "Xtrain, Xtest, ytrain, ytest = train_test_split(data, targets, test_size=0.3, stratify=targets, random_state=41)"
   ]
  },
  {
   "cell_type": "markdown",
   "metadata": {
    "id": "DldivBO4LTbP"
   },
   "source": [
    "### Pad each sentence to be of same length (4 Marks)\n",
    "- Take maximum sequence length as 300"
   ]
  },
  {
   "cell_type": "code",
   "execution_count": 2,
   "metadata": {
    "id": "E808XB4tLtic"
   },
   "outputs": [],
   "source": [
    "from tensorflow.keras.preprocessing.sequence import pad_sequences\n",
    "MAXLENGTH = 300\n",
    "\n",
    "Xtrain = pad_sequences(Xtrain, maxlen=MAXLENGTH, value = 0.0)\n",
    "Xtest = pad_sequences(Xtest, maxlen=MAXLENGTH, value = 0.0)"
   ]
  },
  {
   "cell_type": "markdown",
   "metadata": {
    "id": "JBFFCrybMSXz"
   },
   "source": [
    "### Print shape of features & labels (4 Marks)"
   ]
  },
  {
   "cell_type": "markdown",
   "metadata": {
    "id": "qOcyRtZfMYZd"
   },
   "source": [
    "Number of review, number of words in each review"
   ]
  },
  {
   "cell_type": "code",
   "execution_count": 3,
   "metadata": {
    "colab": {
     "base_uri": "https://localhost:8080/"
    },
    "id": "hdMCUPr7RaCm",
    "outputId": "7826457f-4623-4220-87db-2cb9ff2e4cf0"
   },
   "outputs": [
    {
     "data": {
      "text/plain": [
       "(35000, 300)"
      ]
     },
     "execution_count": 3,
     "metadata": {
      "tags": []
     },
     "output_type": "execute_result"
    }
   ],
   "source": [
    "Xtrain.shape"
   ]
  },
  {
   "cell_type": "code",
   "execution_count": 4,
   "metadata": {
    "colab": {
     "base_uri": "https://localhost:8080/"
    },
    "id": "eGVHeKOWyJiG",
    "outputId": "101b7698-3660-4988-b9c0-a33451b8aa8e"
   },
   "outputs": [
    {
     "data": {
      "text/plain": [
       "(15000, 300)"
      ]
     },
     "execution_count": 4,
     "metadata": {
      "tags": []
     },
     "output_type": "execute_result"
    }
   ],
   "source": [
    "Xtest.shape"
   ]
  },
  {
   "cell_type": "markdown",
   "metadata": {
    "id": "CIM3f6BAWyhq"
   },
   "source": [
    "Total number of reviews are 50,000. 35,000 as Training Data & 15,000 as Testing Data. Since we have padded the data earlier with max length of 300, the number of words in each review is 300."
   ]
  },
  {
   "cell_type": "markdown",
   "metadata": {
    "id": "5cNk5sDvMr3j"
   },
   "source": [
    "Number of labels"
   ]
  },
  {
   "cell_type": "code",
   "execution_count": 5,
   "metadata": {
    "colab": {
     "base_uri": "https://localhost:8080/"
    },
    "id": "6Z00-mYgMoKv",
    "outputId": "af8d5336-6a9c-492e-ab55-e40d9b95dfc7"
   },
   "outputs": [
    {
     "data": {
      "text/plain": [
       "(35000,)"
      ]
     },
     "execution_count": 5,
     "metadata": {
      "tags": []
     },
     "output_type": "execute_result"
    }
   ],
   "source": [
    "ytrain.shape "
   ]
  },
  {
   "cell_type": "code",
   "execution_count": 6,
   "metadata": {
    "colab": {
     "base_uri": "https://localhost:8080/"
    },
    "id": "H7f5tPeaMxti",
    "outputId": "f6cd0bff-9f2c-46b6-ab5d-fadc6b330d71"
   },
   "outputs": [
    {
     "data": {
      "text/plain": [
       "(15000,)"
      ]
     },
     "execution_count": 6,
     "metadata": {
      "tags": []
     },
     "output_type": "execute_result"
    }
   ],
   "source": [
    "ytest.shape"
   ]
  },
  {
   "cell_type": "markdown",
   "metadata": {
    "id": "tdK115zXXuA5"
   },
   "source": [
    "Similarly we have 50,000 labels corresponding to feature data (35,000 + 15,000)"
   ]
  },
  {
   "cell_type": "code",
   "execution_count": 7,
   "metadata": {
    "colab": {
     "base_uri": "https://localhost:8080/"
    },
    "id": "KNrcd2OiSdrZ",
    "outputId": "6bc700d6-bbce-4e39-f6c0-dd2fb7a23469"
   },
   "outputs": [
    {
     "name": "stdout",
     "output_type": "stream",
     "text": [
      "TRAIN DATA: \n",
      "Categories: [0 1]\n",
      "Number of unique words: 9999\n",
      "Average Review length: 300.0\n",
      "Standard Deviation: 0.0\n"
     ]
    }
   ],
   "source": [
    "print(\"TRAIN DATA: \")\n",
    "print(\"Categories:\", np.unique(ytrain))\n",
    "print(\"Number of unique words:\", len(np.unique(np.hstack(Xtrain))))\n",
    "\n",
    "length = [len(i) for i in Xtrain]\n",
    "print(\"Average Review length:\", np.mean(length))\n",
    "print(\"Standard Deviation:\", round(np.std(length)))"
   ]
  },
  {
   "cell_type": "code",
   "execution_count": 8,
   "metadata": {
    "colab": {
     "base_uri": "https://localhost:8080/"
    },
    "id": "CTNshxBUTNAO",
    "outputId": "06a60515-39c0-4373-9716-cd1dd6b4deaf"
   },
   "outputs": [
    {
     "name": "stdout",
     "output_type": "stream",
     "text": [
      "TEST DATA: \n",
      "Categories: [0 1]\n",
      "Number of unique words: 9998\n",
      "Average Review length: 300.0\n",
      "Standard Deviation: 0.0\n"
     ]
    }
   ],
   "source": [
    "print(\"TEST DATA: \")\n",
    "print(\"Categories:\", np.unique(ytest))\n",
    "print(\"Number of unique words:\", len(np.unique(np.hstack(Xtest))))\n",
    "\n",
    "length = [len(i) for i in Xtest]\n",
    "print(\"Average Review length:\", np.mean(length))\n",
    "print(\"Standard Deviation:\", round(np.std(length)))"
   ]
  },
  {
   "cell_type": "markdown",
   "metadata": {
    "id": "NdXPWuOmNEbh"
   },
   "source": [
    "### Print value of any one feature and it's label (4 Marks)"
   ]
  },
  {
   "cell_type": "markdown",
   "metadata": {
    "id": "MGLEdeFmNZfR"
   },
   "source": [
    "Feature value"
   ]
  },
  {
   "cell_type": "code",
   "execution_count": 9,
   "metadata": {
    "colab": {
     "base_uri": "https://localhost:8080/"
    },
    "id": "RKFyMa28zztL",
    "outputId": "c7074910-f3a3-43bf-c55a-5e185edd0290"
   },
   "outputs": [
    {
     "name": "stdout",
     "output_type": "stream",
     "text": [
      "[4490  405   22   12    9 3747    8    6  606 3666 1896 2012   43    6\n",
      "  282    8   67    6 1922  232    5    6 1523  232   30  163  295   10\n",
      "   10    4 1327 1126 2398    9    4 5003  212  356 7061 6900    2   15\n",
      "   20    9   87   88    4  114  218 4801    5 5715   45 1121 1243    6\n",
      "  232 4286  344   18    2  214 1571   19    6    2   21   45  147    2\n",
      "   12  166   32    4 1474    4  105   26  147    4 1186   26  230   53\n",
      "  147 4044  430    9 1050 2764    5   94  647 1186    2    4  105   75\n",
      "  235  164   18   98    5   75   92  459   44  803 1448   23  268    2\n",
      " 2529    4 4690  347  200 3599    5 1254  867    5 2198  502 4044  430\n",
      "    9  331 1755   19  640   40    6  606 6135   11    4    2 1587   83\n",
      "    6 2487 1587   83    6 1651   19    6  351 6135   15   66  218  351\n",
      "   95    2    5    2   68  519   10   10    4  226    2  519  155    9\n",
      " 2586  340   39    2    5   45 3270   89   76  538   11   14   22  165\n",
      "  127 5124    4 1230 1593  308 1911   20   10   10    2    9  331   96\n",
      "   99 2934    8  169 1451  207  115  510  149   90   11  101  102    5\n",
      "   14 1481 1194   61  330    2  348   55  117    8   81 4819   17    4\n",
      " 1327   91    2  109   10   10 2130    2    9 1053   17    4  445 8541\n",
      "   37 2464    8 2330    2  970    4  277    9    6  975    5   24   11\n",
      "    6    2    2  163   96   53   40    6  449  558   26   36  622   96\n",
      "   10   10   49   84 3302   12  198  646   21   13   43  191   79   83\n",
      "   12  885   81   13 1144   32    4  538   12 8689   39   24   43 7586\n",
      "    2    6  209  101 1109 1689]\n"
     ]
    }
   ],
   "source": [
    "index = 2\n",
    "print(Xtrain[index])"
   ]
  },
  {
   "cell_type": "markdown",
   "metadata": {
    "id": "h_85Hqm0Nb1I"
   },
   "source": [
    "Label value"
   ]
  },
  {
   "cell_type": "code",
   "execution_count": 10,
   "metadata": {
    "colab": {
     "base_uri": "https://localhost:8080/"
    },
    "id": "-FoehB5jNd1g",
    "outputId": "2975aad5-80cf-4b5a-c74e-699cbaa521b4"
   },
   "outputs": [
    {
     "name": "stdout",
     "output_type": "stream",
     "text": [
      "Sentiment is Negative !!!\n"
     ]
    }
   ],
   "source": [
    "print(\"Sentiment is Positive !!!\" if ytrain[index] == 1 else \"Sentiment is Negative !!!\")"
   ]
  },
  {
   "cell_type": "markdown",
   "metadata": {
    "id": "0cof4LSxNxuv"
   },
   "source": [
    "### Decode the feature value to get original sentence (4 Marks)"
   ]
  },
  {
   "cell_type": "markdown",
   "metadata": {
    "id": "Q_oiAyPZOkJD"
   },
   "source": [
    "First, retrieve a dictionary that contains mapping of words to their index in the IMDB dataset"
   ]
  },
  {
   "cell_type": "code",
   "execution_count": 11,
   "metadata": {
    "id": "Clsk-yK8OtzD"
   },
   "outputs": [],
   "source": [
    "index = 1\n",
    "word_to_id = imdb.get_word_index()\n",
    "word_to_id = {k:(v+INDEX_FROM) for k,v in word_to_id.items()}\n",
    "word_to_id[\"<PAD>\"] = 0\n",
    "word_to_id[\"<START>\"] = 1\n",
    "word_to_id[\"<UNKNOWN>\"] = 2"
   ]
  },
  {
   "cell_type": "markdown",
   "metadata": {
    "id": "NRgOD5S2Uuvd"
   },
   "source": [
    "Now use the dictionary to get the original words from the encodings, for a particular sentence"
   ]
  },
  {
   "cell_type": "code",
   "execution_count": 12,
   "metadata": {
    "colab": {
     "base_uri": "https://localhost:8080/"
    },
    "id": "zJ504QDORwxj",
    "outputId": "fd34dcd9-d6c5-4545-cffe-55437328b271"
   },
   "outputs": [
    {
     "name": "stdout",
     "output_type": "stream",
     "text": [
      "i have never before watched a film three times in one night after the third time at 3 00 am i knew i had just experienced a great film <UNKNOWN> now ranks 10 on my top twenty films of all time and in the very small universe of great gay or gay subtext film there is <UNKNOWN> mountain <UNKNOWN> <UNKNOWN> drive and maurice br br thank you mr bell <UNKNOWN> is brilliant and fully realized with a magnificent cast a wonderfully moving understated score excellent cinematography an entertaining touching totally appropriate and <UNKNOWN> song i can go on but i won't <UNKNOWN> too much more br br this film should have received oscar nominations certainly one for best picture the performances without exception were all wonderful ms lovely <UNKNOWN> voice was a surprising <UNKNOWN> and sir ian <UNKNOWN> said awesome br br <UNKNOWN> is the reason i <UNKNOWN> through over 200 mediocre to utterly horrendous films some in the 150 million plus range a year to find that one treasure that one exquisite magical unique and enchanting perfect egg <UNKNOWN> an unforgettable heart br br finally i promise my second first i've never before posted a commentary on any film i've seen br br thank you again mr richard bell breathtaking genius give this man 100 million for his next film he made 700 000 us into one of the top 50 films of all time if i had the cash i'd grant him 75 000 a year living <UNKNOWN> and match any <UNKNOWN> raised for his next film mr bell is already a great director at <UNKNOWN> years old can you imagine him at 45 years old br br wise and witty tender and brutal <UNKNOWN> poignant understated yet edgy chilling and thrilling mesmerizing haunting unforgettable <UNKNOWN> the masterpiece\n"
     ]
    }
   ],
   "source": [
    "id_to_word = {value:key for key,value in word_to_id.items()}\n",
    "decoded = ' '.join(id_to_word[id] for id in Xtrain[index])\n",
    "print(decoded)"
   ]
  },
  {
   "cell_type": "markdown",
   "metadata": {
    "id": "WLGABrJoVZe6"
   },
   "source": [
    "Get the sentiment for the above sentence\n",
    "- positive (1)\n",
    "- negative (0)"
   ]
  },
  {
   "cell_type": "code",
   "execution_count": 13,
   "metadata": {
    "colab": {
     "base_uri": "https://localhost:8080/"
    },
    "id": "XDyQGJT0Ve-a",
    "outputId": "b6d9ca9a-924d-447b-9eaa-00518265ca58"
   },
   "outputs": [
    {
     "name": "stdout",
     "output_type": "stream",
     "text": [
      "Sentiment is Positive !!!\n"
     ]
    }
   ],
   "source": [
    "print(\"Sentiment is Positive !!!\" if ytrain[index] == 1 else \"Sentiment is Negative !!!\")"
   ]
  },
  {
   "cell_type": "markdown",
   "metadata": {
    "id": "BmCjr8miXIWB"
   },
   "source": [
    "### Define model (10 Marks)\n",
    "- Define a Sequential Model\n",
    "- Add Embedding layer\n",
    "  - Embedding layer turns positive integers into dense vectors of fixed size\n",
    "  - `tensorflow.keras` embedding layer doesn't require us to onehot encode our words, instead we have to give each word a unique integer number as an id. For the imdb dataset we've loaded this has already been done, but if this wasn't the case we could use sklearn LabelEncoder.\n",
    "  - Size of the vocabulary will be 10000\n",
    "  - Give dimension of the dense embedding as 100\n",
    "  - Length of input sequences should be 300\n",
    "- Add LSTM layer\n",
    "  - Pass value in `return_sequences` as True\n",
    "- Add a `TimeDistributed` layer with 100 Dense neurons\n",
    "- Add Flatten layer\n",
    "- Add Dense layer"
   ]
  },
  {
   "cell_type": "code",
   "execution_count": 14,
   "metadata": {
    "colab": {
     "base_uri": "https://localhost:8080/"
    },
    "id": "Np5GxT1caFEq",
    "outputId": "47962ba2-723c-46f0-d1bb-15256113217c"
   },
   "outputs": [
    {
     "name": "stdout",
     "output_type": "stream",
     "text": [
      "WARNING:tensorflow:Layer lstm will not use cuDNN kernel since it doesn't meet the cuDNN kernel criteria. It will use generic GPU kernel as fallback when running on GPU\n"
     ]
    }
   ],
   "source": [
    "from keras.models import Sequential\n",
    "from keras.layers import Dense, Flatten, LSTM, TimeDistributed\n",
    "from keras.layers.embeddings import Embedding\n",
    "\n",
    "model=Sequential()\n",
    "model.add(Embedding(input_dim=10000, output_dim=100, input_length=300))\n",
    "model.add(LSTM(256,return_sequences=True, dropout=0.1, recurrent_dropout=0.1))\n",
    "model.add(TimeDistributed(Dense(100, activation='relu')))\n",
    "model.add(Flatten())\n",
    "model.add(Dense(1,activation='sigmoid'))"
   ]
  },
  {
   "cell_type": "markdown",
   "metadata": {
    "id": "Hc4bknOobDby"
   },
   "source": [
    "### Compile the model (4 Marks)\n",
    "- Use Optimizer as Adam\n",
    "- Use Binary Crossentropy as loss\n",
    "- Use Accuracy as metrics"
   ]
  },
  {
   "cell_type": "code",
   "execution_count": 15,
   "metadata": {
    "id": "jw4RJ0CQbwFY"
   },
   "outputs": [],
   "source": [
    "model.compile(loss='binary_crossentropy', optimizer='adam', metrics = ['accuracy'])"
   ]
  },
  {
   "cell_type": "markdown",
   "metadata": {
    "id": "8sEzwazqbz3T"
   },
   "source": [
    "### Print model summary (4 Marks)"
   ]
  },
  {
   "cell_type": "code",
   "execution_count": 16,
   "metadata": {
    "colab": {
     "base_uri": "https://localhost:8080/"
    },
    "id": "6Hx1yxwlb2Ue",
    "outputId": "3eae565f-5172-43dd-f4ce-10a1bccc0437"
   },
   "outputs": [
    {
     "name": "stdout",
     "output_type": "stream",
     "text": [
      "Model: \"sequential\"\n",
      "_________________________________________________________________\n",
      "Layer (type)                 Output Shape              Param #   \n",
      "=================================================================\n",
      "embedding (Embedding)        (None, 300, 100)          1000000   \n",
      "_________________________________________________________________\n",
      "lstm (LSTM)                  (None, 300, 256)          365568    \n",
      "_________________________________________________________________\n",
      "time_distributed (TimeDistri (None, 300, 100)          25700     \n",
      "_________________________________________________________________\n",
      "flatten (Flatten)            (None, 30000)             0         \n",
      "_________________________________________________________________\n",
      "dense_1 (Dense)              (None, 1)                 30001     \n",
      "=================================================================\n",
      "Total params: 1,421,269\n",
      "Trainable params: 1,421,269\n",
      "Non-trainable params: 0\n",
      "_________________________________________________________________\n"
     ]
    }
   ],
   "source": [
    "model.summary()"
   ]
  },
  {
   "cell_type": "markdown",
   "metadata": {
    "id": "bmkolKP4b-U6"
   },
   "source": [
    "### Fit the model (4 Marks)"
   ]
  },
  {
   "cell_type": "code",
   "execution_count": 17,
   "metadata": {
    "colab": {
     "base_uri": "https://localhost:8080/"
    },
    "id": "vRg3KFXLcAkk",
    "outputId": "766c9955-172c-4b24-a97a-017bc8a704d1"
   },
   "outputs": [
    {
     "name": "stdout",
     "output_type": "stream",
     "text": [
      "Epoch 1/5\n",
      "547/547 [==============================] - 596s 1s/step - loss: 0.3276 - accuracy: 0.8479\n",
      "Epoch 2/5\n",
      "547/547 [==============================] - 596s 1s/step - loss: 0.1869 - accuracy: 0.9273\n",
      "Epoch 3/5\n",
      "547/547 [==============================] - 580s 1s/step - loss: 0.1315 - accuracy: 0.9502\n",
      "Epoch 4/5\n",
      "547/547 [==============================] - 585s 1s/step - loss: 0.0892 - accuracy: 0.9664\n",
      "Epoch 5/5\n",
      "547/547 [==============================] - 587s 1s/step - loss: 0.0602 - accuracy: 0.9786\n"
     ]
    },
    {
     "data": {
      "text/plain": [
       "<tensorflow.python.keras.callbacks.History at 0x7f8d3e7997f0>"
      ]
     },
     "execution_count": 17,
     "metadata": {
      "tags": []
     },
     "output_type": "execute_result"
    }
   ],
   "source": [
    "batch_size = 64\n",
    "model.fit(Xtrain, ytrain, epochs = 5, batch_size=batch_size, verbose = 1)"
   ]
  },
  {
   "cell_type": "markdown",
   "metadata": {
    "id": "bwLl54MXnkEA"
   },
   "source": [
    "### Evaluate model (4 Marks)"
   ]
  },
  {
   "cell_type": "code",
   "execution_count": 18,
   "metadata": {
    "colab": {
     "base_uri": "https://localhost:8080/"
    },
    "id": "EUqY-bD8RaDR",
    "outputId": "a2415429-5bdf-44f3-fa0f-2e673f8844b6"
   },
   "outputs": [
    {
     "name": "stdout",
     "output_type": "stream",
     "text": [
      "235/235 - 17s - loss: 0.4468 - accuracy: 0.8901\n",
      "Validation Loss: 0.45\n",
      "Validation Accuracy: 0.89\n"
     ]
    }
   ],
   "source": [
    "score,acc = model.evaluate(Xtest, ytest, verbose = 2, batch_size = batch_size)\n",
    "print(\"Validation Loss: %.2f\" % (score))\n",
    "print(\"Validation Accuracy: %.2f\" % (acc))"
   ]
  },
  {
   "cell_type": "markdown",
   "metadata": {
    "id": "h2amr1tJn9Jz"
   },
   "source": [
    "### Predict on one sample (4 Marks)"
   ]
  },
  {
   "cell_type": "code",
   "execution_count": 19,
   "metadata": {
    "id": "Wl4idfWR_A8E"
   },
   "outputs": [],
   "source": [
    "def Predict(idx):\n",
    "  data = Xtest[idx].reshape(1,Xtest.shape[1])\n",
    "  print(\"TEST DATA:\")\n",
    "  print(data)\n",
    "  print(\"ACTUAL SENTIMENT: \")\n",
    "  print(\"Sentiment is Positive !!!\" if ytest[idx] == 1 else \"Sentiment is Negative !!!\")\n",
    "  sentiment = model.predict(data, batch_size = 1)\n",
    "  print(\"PREDICTED SENTIMENT: \")\n",
    "  print(\"Sentiment is Positive !!!\" if sentiment > 0.5 else \"Sentiment is Negative !!!\")\n",
    "  print(\"\")"
   ]
  },
  {
   "cell_type": "code",
   "execution_count": 20,
   "metadata": {
    "colab": {
     "base_uri": "https://localhost:8080/"
    },
    "id": "iiKoln8kxUuR",
    "outputId": "a15e7f89-b29a-49ba-8fea-6b267fd86236"
   },
   "outputs": [
    {
     "name": "stdout",
     "output_type": "stream",
     "text": [
      "TEST DATA:\n",
      "[[  11 5731 1922 2281 7550   62   28  276   15  496  208   46 1011    5\n",
      "   343   14  509   17    2 6228 2214   18 7329 3050   17    9  263 2787\n",
      "    16 9404    2    2    5   69    8 4184   18    6   55 7687  611  395\n",
      "  9956 5961  372   10   10    4  650  724    2    2   12  215   30  301\n",
      "     9   24   55 1444    4 1385    9  327    5 3551   11    6 1162    2\n",
      "    96   15 3355 6799   25   83  536   50  238   30   49 2812 1518 1663\n",
      "    33  157  496    4  370 5898   45   43    6 3475  836 5235 1700   93\n",
      "    18  248  708   15 1668 7652  201  381    8   97   49 1727 2208    5\n",
      "  6585   49 1877    2  151   36  540  161  124   15   33    4   58    5\n",
      "   123  125   68 2202  133 1106 1899    8    6  248 2407 3478  223    2\n",
      "   125  429  248 2407 3959   37  191 1197  726  507    6 7040 1366   42\n",
      "     6 4934 1215 1346    4 1057 3259    4 1474   34 1489   98   11    2\n",
      "     2    5   28  115 2051   31    7    4 4101 3080    7 3469  699   92\n",
      "   947   19 2801 9172   67    2    5 6934    4   64  986   18 1137   11\n",
      "    14   20    9   11    4 3558 1667  492  109    7 1230  256   34    4\n",
      "   196 1551   48  126 2032    2    2   37    9  424    8   30 6844    5\n",
      "  3206    5  238  235   49 2506   18    5 3224    8    4    2 3024   15\n",
      "     9 1505 3541   27  223   21 1230   17  256   34    2 7534  138  161\n",
      "    75   67   53   39   14    2    9  165   43 9742    5 4378    5  218\n",
      "    31  227 8644   54  194 1095  214  622    5 3771    6  347   11    4\n",
      "  9606    5 6376 6439   18    4 1666    2    5 2787    2   50  215   30\n",
      "    49    7   25   46   50   64]]\n",
      "ACTUAL SENTIMENT: \n",
      "Sentiment is Negative !!!\n",
      "PREDICTED SENTIMENT: \n",
      "Sentiment is Negative !!!\n",
      "\n",
      "TEST DATA:\n",
      "[[2886  307   22  151 2102  309  203   30   94  222 1159  109   29    9\n",
      "   118 2032   18  467 5170 2137   27    2 1878  297   44    6  251   11\n",
      "     4  113    7    4 8477    2 2059    7  625  403    2 5890   16   24\n",
      "   142 9796  631 5362 2266  692    8   13  280   69    6    2 4912    7\n",
      "   745 3555  886    4 4894   29 1482   11    6   22    7  467 5170 2137\n",
      "    11 5065    5  207  115 1551    4    2 6923  489    7   27  544    4\n",
      "  2560 3315    4    2    7    4  132    9  142   13 1049   11  239 2102\n",
      "   266  638   17    6 2886    2   60 5449  822 1079   19    4  372   11\n",
      "    27  113   10   10   11   27  960   22  119    9    4 2113 4087    4\n",
      "     2  113    7 6288 4804 5807    5   27    2  649   19   27 1461    5\n",
      "  2186  742    2    4 1289    7  119  186    8   72    6    2    5   53\n",
      "  2349   22   48   25  942   51 6102   12 1580   83    4 9600    7    2\n",
      "  1518 2867   13   62   28    8  135   21   17   35 2618   83   27    2\n",
      "    27    2    2    5   27  831 9661    8    4 1417    7  409   12    9\n",
      "  1669  619    5 3656   10   10 2102   69    6   52  325    2    5  487\n",
      "   137   85  349  587   71  112    2   34    4 3645    7  985   11   31\n",
      "   136  751    4  130    2 5424  949   27  369  186    2    2   21   14\n",
      "     9   24  103   32    2   22 2693  408  178    6 2000 2078   11 4162\n",
      "  1797    5    4  921    7  325 3088    9 1220    5 1235   17    4  322\n",
      "     5 6065  272  220   99    2 5823    8   30  147   17   59  122   11\n",
      "  3114    5 5521   21   14    9  242   41 1885  239    5   11  175 1161\n",
      "     4   22    9 1517    7   41]]\n",
      "ACTUAL SENTIMENT: \n",
      "Sentiment is Positive !!!\n",
      "PREDICTED SENTIMENT: \n",
      "Sentiment is Positive !!!\n",
      "\n"
     ]
    }
   ],
   "source": [
    "Predict(1)\n",
    "Predict(12)"
   ]
  }
 ],
 "metadata": {
  "accelerator": "GPU",
  "colab": {
   "collapsed_sections": [],
   "name": "Assignment_NLP_1_Nov2020.ipynb",
   "provenance": []
  },
  "kernelspec": {
   "display_name": "Python 3",
   "language": "python",
   "name": "python3"
  },
  "language_info": {
   "codemirror_mode": {
    "name": "ipython",
    "version": 3
   },
   "file_extension": ".py",
   "mimetype": "text/x-python",
   "name": "python",
   "nbconvert_exporter": "python",
   "pygments_lexer": "ipython3",
   "version": "3.7.4"
  }
 },
 "nbformat": 4,
 "nbformat_minor": 1
}
